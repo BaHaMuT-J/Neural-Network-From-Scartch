{
 "cells": [
  {
   "cell_type": "code",
   "execution_count": 37,
   "id": "b80f8d88",
   "metadata": {},
   "outputs": [],
   "source": [
    "import numpy as np\n",
    "from sklearn.model_selection import train_test_split\n",
    "from sklearn.datasets import make_moons\n",
    "import matplotlib.pyplot as plt\n",
    "\n",
    "import torch\n",
    "import torch.nn as nn\n",
    "import torch.optim as optim"
   ]
  },
  {
   "cell_type": "markdown",
   "id": "e185ff43",
   "metadata": {},
   "source": [
    "## Try Basic Implementation"
   ]
  },
  {
   "cell_type": "code",
   "execution_count": null,
   "id": "73e95f55",
   "metadata": {},
   "outputs": [
    {
     "name": "stdout",
     "output_type": "stream",
     "text": [
      "Epoch 0, Loss: 113.9959\n",
      "Epoch 100, Loss: 8.4656\n",
      "Epoch 200, Loss: 8.4656\n",
      "Epoch 300, Loss: 8.4656\n",
      "Epoch 400, Loss: 8.4656\n",
      "Epoch 500, Loss: 8.4656\n",
      "Epoch 600, Loss: 8.4656\n",
      "Epoch 700, Loss: 8.4656\n",
      "Epoch 800, Loss: 8.4656\n",
      "Epoch 900, Loss: 8.4656\n",
      "\n",
      "Final Weights:\n",
      "W1: [[1.59530964]]\n",
      "W2: [[1.59530964]]\n",
      "\n",
      "Prediction:\n",
      " [[ 0.        ]\n",
      " [ 2.54501285]\n",
      " [ 5.09002571]\n",
      " [ 7.63503856]\n",
      " [10.18005141]\n",
      " [12.72506427]\n",
      " [15.27007712]\n",
      " [17.81508997]\n",
      " [20.36010282]\n",
      " [22.90511568]]\n",
      "\n",
      "y True:\n",
      " [[ 0]\n",
      " [ 2]\n",
      " [ 4]\n",
      " [ 6]\n",
      " [ 8]\n",
      " [10]\n",
      " [12]\n",
      " [14]\n",
      " [16]\n",
      " [18]]\n"
     ]
    }
   ],
   "source": [
    "np.random.seed(42)\n",
    "\n",
    "# Goal y = 2x\n",
    "zs = np.array([np.arange(0, 10)]).T\n",
    "y = 2 * zs\n",
    "\n",
    "# Initialize params, has 1 hidden layers with 1 neurons, no bias\n",
    "def init_params(input_shape, output_shape):\n",
    "  W1 = np.random.rand(input_shape, input_shape) * 0.01\n",
    "  W2 = np.random.rand(input_shape, output_shape) * 0.01\n",
    "  return W1, W2\n",
    "\n",
    "# Forward propagation\n",
    "def forward(x, W1, W2):\n",
    "  hidden =  x @ W1\n",
    "  output = hidden @ W2\n",
    "  return hidden, output\n",
    "\n",
    "# MSE loss\n",
    "def MSE(y_true, y_pred):\n",
    "  return np.mean(np.square(y_true-y_pred))\n",
    "\n",
    "# Backward propagation\n",
    "def backward(x, y, W1, W2, H, O, lr=0.01):\n",
    "  dL_dO = 2 * (O - y) / O.shape[0]\n",
    "  \n",
    "  dO_dW2 = H\n",
    "  dL_dW2 = dO_dW2.T @ dL_dO\n",
    "  \n",
    "  dO_dH = W2\n",
    "  dH_dW1 = x\n",
    "  dL_dW1 = dH_dW1.T @ (dL_dO @ dO_dH.T)\n",
    "\n",
    "  W2 -= lr * dL_dW2\n",
    "  W1 -= lr * dL_dW1\n",
    "\n",
    "  return W1, W2\n",
    "\n",
    "# Training loop\n",
    "epochs = 1000\n",
    "W1, W2 = init_params(1, 1)\n",
    "for epoch in range(epochs):\n",
    "  As, O = forward(zs, W1, W2)\n",
    "\n",
    "  if epoch % 100 == 0:\n",
    "    loss = MSE(y, O)\n",
    "    print(f\"Epoch {epoch}, Loss: {loss:.4f}\")\n",
    "\n",
    "  W1, W2 = backward(zs, y, W1, W2, As, O)\n",
    "\n",
    "print(\"\\nFinal Weights:\")\n",
    "print(\"W1:\", W1)\n",
    "print(\"W2:\", W2)\n",
    "print(\"\\nPrediction:\\n\", forward(zs, W1, W2)[1])\n",
    "print(\"\\ny True:\\n\", y)"
   ]
  },
  {
   "cell_type": "code",
   "execution_count": null,
   "id": "8eb1796f",
   "metadata": {},
   "outputs": [
    {
     "name": "stdout",
     "output_type": "stream",
     "text": [
      "Epoch 0, Loss: 162.8282\n",
      "Epoch 100, Loss: 10.3533\n",
      "Epoch 200, Loss: 7.2105\n",
      "Epoch 300, Loss: 5.1797\n",
      "Epoch 400, Loss: 3.7506\n",
      "Epoch 500, Loss: 2.7163\n",
      "Epoch 600, Loss: 1.9633\n",
      "Epoch 700, Loss: 1.4154\n",
      "Epoch 800, Loss: 1.0179\n",
      "Epoch 900, Loss: 0.7302\n",
      "\n",
      "Final Params:\n",
      "W1: [[1.54516413]] | b1: -1.2619867906488234\n",
      "W2: [[1.38274399]] | b2: 4.737832771104995\n",
      "\n",
      "Prediction:\n",
      " [[ 2.99282812]\n",
      " [ 5.12939453]\n",
      " [ 7.26596094]\n",
      " [ 9.40252735]\n",
      " [11.53909375]\n",
      " [13.67566016]\n",
      " [15.81222657]\n",
      " [17.94879298]\n",
      " [20.08535939]\n",
      " [22.22192579]]\n",
      "\n",
      "y True:\n",
      " [[ 3]\n",
      " [ 5]\n",
      " [ 7]\n",
      " [ 9]\n",
      " [11]\n",
      " [13]\n",
      " [15]\n",
      " [17]\n",
      " [19]\n",
      " [21]]\n"
     ]
    }
   ],
   "source": [
    "np.random.seed(42)\n",
    "\n",
    "# Goal y = 2x + 3\n",
    "zs = np.array([np.arange(0, 10)]).T\n",
    "y = 2 * zs + 3\n",
    "\n",
    "# Initialize params, has 1 hidden layers with 1 neurons, with bias\n",
    "def init_params(input_shape, output_shape):\n",
    "  W1 = np.random.rand(input_shape, input_shape) * 0.01\n",
    "  b1 = np.random.random()\n",
    "  W2 = np.random.rand(input_shape, output_shape) * 0.01\n",
    "  b2 = np.random.random()\n",
    "  return W1, b1, W2, b2\n",
    "\n",
    "# Forward propagation\n",
    "def forward(x, W1, b1, W2, b2):\n",
    "  hidden =  x @ W1 + b1\n",
    "  output = hidden @ W2 + b2\n",
    "  return hidden, output\n",
    "\n",
    "# MSE loss\n",
    "def MSE(y_true, y_pred):\n",
    "  return np.mean(np.square(y_true-y_pred))\n",
    "\n",
    "# Backward propagation\n",
    "def backward(x, y, W1, b1, W2, b2, H, O, lr=0.01):\n",
    "  dL_dO = 2 * (O - y) / O.shape[0]\n",
    "\n",
    "  dL_db2 = np.sum(dL_dO)\n",
    "  \n",
    "  dO_dW2 = H\n",
    "  dL_dW2 = dO_dW2.T @ dL_dO\n",
    "  \n",
    "  dO_dH = W2\n",
    "  dL_dH = dL_dO @ dO_dH.T\n",
    "  dL_db1 = np.sum(dL_dH)\n",
    "\n",
    "  dH_dW1 = x\n",
    "  dL_dW1 = dH_dW1.T @ (dL_dH)\n",
    "\n",
    "  b2 -= lr * dL_db2\n",
    "  W2 -= lr * dL_dW2\n",
    "  b1 -= lr * dL_db1\n",
    "  W1 -= lr * dL_dW1\n",
    "\n",
    "  return W1, b1, W2, b2\n",
    "\n",
    "# Training loop\n",
    "epochs = 1000\n",
    "W1, b1, W2, b2 = init_params(1, 1)\n",
    "for epoch in range(epochs):\n",
    "  As, O = forward(zs, W1, b1, W2, b2)\n",
    "\n",
    "  if epoch % 100 == 0:\n",
    "    loss = MSE(y, O)\n",
    "    print(f\"Epoch {epoch}, Loss: {loss:.4f}\")\n",
    "\n",
    "  W1, b1, W2, b2 = backward(zs, y, W1, b1, W2, b2, As, O)\n",
    "\n",
    "print(\"\\nFinal Params:\")\n",
    "print(f\"W1: {W1} | b1: {b1}\")\n",
    "print(f\"W2: {W2} | b2: {b2}\")\n",
    "print(\"\\nPrediction:\\n\", forward(zs, W1, b1, W2, b2)[1])\n",
    "print(\"\\ny True:\\n\", y)"
   ]
  },
  {
   "cell_type": "code",
   "execution_count": null,
   "id": "b88666c5",
   "metadata": {},
   "outputs": [
    {
     "name": "stdout",
     "output_type": "stream",
     "text": [
      "Epoch 0, Loss: 114.2859\n",
      "Epoch 100, Loss: 11.4438\n",
      "Epoch 200, Loss: 7.7742\n",
      "Epoch 300, Loss: 5.7047\n",
      "Epoch 400, Loss: 4.6576\n",
      "Epoch 500, Loss: 4.0356\n",
      "Epoch 600, Loss: 3.6277\n",
      "Epoch 700, Loss: 3.3509\n",
      "Epoch 800, Loss: 3.1612\n",
      "Epoch 900, Loss: 3.0309\n",
      "Epoch 1000, Loss: 2.9412\n",
      "Epoch 1100, Loss: 2.8793\n",
      "Epoch 1200, Loss: 2.8365\n",
      "Epoch 1300, Loss: 2.8067\n",
      "Epoch 1400, Loss: 2.7861\n",
      "Epoch 1500, Loss: 2.7717\n",
      "Epoch 1600, Loss: 2.7617\n",
      "Epoch 1700, Loss: 2.7547\n",
      "Epoch 1800, Loss: 2.7498\n",
      "Epoch 1900, Loss: 2.7464\n",
      "Epoch 2000, Loss: 2.7441\n",
      "Epoch 2100, Loss: 2.7424\n",
      "Epoch 2200, Loss: 2.7412\n",
      "Epoch 2300, Loss: 2.7404\n",
      "Epoch 2400, Loss: 2.7399\n",
      "Epoch 2500, Loss: 2.7395\n",
      "Epoch 2600, Loss: 2.7392\n",
      "Epoch 2700, Loss: 2.7390\n",
      "Epoch 2800, Loss: 2.7389\n",
      "Epoch 2900, Loss: 2.7388\n",
      "\n",
      "Final Params:\n",
      "W1: [[1.6121592]] | b1: -1.0314457218900595\n",
      "W2: [[1.43381945]] | b2: 4.3973232885666365\n",
      "\n",
      "Prediction:\n",
      " [[ 4.39732329]\n",
      " [ 5.22996157]\n",
      " [ 7.5415068 ]\n",
      " [ 9.85305203]\n",
      " [12.16459725]\n",
      " [14.47614248]\n",
      " [16.7876877 ]\n",
      " [19.09923293]\n",
      " [21.41077816]\n",
      " [23.72232338]]\n",
      "\n",
      "y True:\n",
      " [[ 3]\n",
      " [ 5]\n",
      " [ 7]\n",
      " [ 9]\n",
      " [11]\n",
      " [13]\n",
      " [15]\n",
      " [17]\n",
      " [19]\n",
      " [21]]\n"
     ]
    }
   ],
   "source": [
    "np.random.seed(42)\n",
    "\n",
    "# Goal y = 2x + 3\n",
    "X = np.array([np.arange(0, 10)]).T\n",
    "y = 2 * X + 3\n",
    "\n",
    "# Initialize params, has 1 hidden layers with 1 neurons, with bias\n",
    "def init_params(input_shape, output_shape):\n",
    "  W1 = np.random.rand(input_shape, input_shape)\n",
    "  b1 = np.random.random()\n",
    "  W2 = np.random.rand(input_shape, output_shape)\n",
    "  b2 = np.random.random()\n",
    "  return W1, b1, W2, b2\n",
    "\n",
    "def relu(z):\n",
    "  return np.maximum(0, z)\n",
    "\n",
    "def relu_deriv(z):\n",
    "  return (z > 0).astype(float)\n",
    "\n",
    "# Forward propagation, now using ReLU as activation\n",
    "def forward(x, W1, b1, W2, b2):\n",
    "  a =  x @ W1 + b1\n",
    "  A = relu(a)\n",
    "  z = A @ W2 + b2\n",
    "  O = relu(z)\n",
    "  return a, A, z, O\n",
    "\n",
    "# MSE loss\n",
    "def MSE(y_true, y_pred):\n",
    "  return np.mean(np.square(y_true-y_pred))\n",
    "\n",
    "# Backward propagation\n",
    "def backward(x, y, W1, b1, W2, b2, a, A, z, O, lr=0.01):\n",
    "  dL_dO = 2 * (O - y) / O.shape[0]\n",
    "  dO_dz = relu_deriv(z)\n",
    "  dL_dz = dL_dO * dO_dz\n",
    "\n",
    "  dL_db2 = np.sum(dL_dz)\n",
    "  \n",
    "  dz_dW2 = A\n",
    "  dL_dW2 = dz_dW2.T @ dL_dz\n",
    "  \n",
    "  dz_dA = W2\n",
    "  dL_dA = dL_dz @ dz_dA.T\n",
    "\n",
    "  dA_da = relu_deriv(a)\n",
    "  dL_da = dL_dA * dA_da\n",
    "  dL_db1 = np.sum(dL_da)\n",
    "  \n",
    "  da_dw1 = x\n",
    "  dL_dW1 = da_dw1.T @ (dL_da)\n",
    "\n",
    "  b2 -= lr * dL_db2\n",
    "  W2 -= lr * dL_dW2\n",
    "  b1 -= lr * dL_db1\n",
    "  W1 -= lr * dL_dW1\n",
    "\n",
    "  return W1, b1, W2, b2\n",
    "\n",
    "# Training loop\n",
    "epochs = 3000\n",
    "W1, b1, W2, b2 = init_params(1, 1)\n",
    "for epoch in range(epochs):\n",
    "  a, As, zs, O = forward(X, W1, b1, W2, b2)\n",
    "\n",
    "  if epoch % 100 == 0:\n",
    "    loss = MSE(y, O)\n",
    "    print(f\"Epoch {epoch}, Loss: {loss:.4f}\")\n",
    "\n",
    "  W1, b1, W2, b2 = backward(X, y, W1, b1, W2, b2, a, As, zs, O)\n",
    "\n",
    "print(\"\\nFinal Params:\")\n",
    "print(f\"W1: {W1} | b1: {b1}\")\n",
    "print(f\"W2: {W2} | b2: {b2}\")\n",
    "print(\"\\nPrediction:\\n\", forward(X, W1, b1, W2, b2)[3])\n",
    "print(\"\\ny True:\\n\", y)"
   ]
  },
  {
   "cell_type": "code",
   "execution_count": 20,
   "id": "61565259",
   "metadata": {},
   "outputs": [],
   "source": [
    "class ReLU:\n",
    "  def f(self, x):\n",
    "    return np.maximum(0, x)\n",
    "  \n",
    "  def fp(self, x):\n",
    "    return (x > 0).astype(float)\n",
    "  \n",
    "class MSE:\n",
    "  def f(self, y_true, y_pred):\n",
    "    return np.mean(np.square(y_true-y_pred))\n",
    "  \n",
    "  def fp(self, y_true, y_pred):\n",
    "    return 2 * (y_pred - y_true) / y_pred.shape[0]"
   ]
  },
  {
   "cell_type": "code",
   "execution_count": 69,
   "id": "e23178e1",
   "metadata": {},
   "outputs": [
    {
     "name": "stdout",
     "output_type": "stream",
     "text": [
      "Epoch 0, Loss: 114.2859\n",
      "Epoch 100, Loss: 11.4438\n",
      "Epoch 200, Loss: 7.7742\n",
      "Epoch 300, Loss: 5.7047\n",
      "Epoch 400, Loss: 4.6576\n",
      "Epoch 500, Loss: 4.0356\n",
      "Epoch 600, Loss: 3.6277\n",
      "Epoch 700, Loss: 3.3509\n",
      "Epoch 800, Loss: 3.1612\n",
      "Epoch 900, Loss: 3.0309\n",
      "Epoch 1000, Loss: 2.9412\n",
      "Epoch 1100, Loss: 2.8793\n",
      "Epoch 1200, Loss: 2.8365\n",
      "Epoch 1300, Loss: 2.8067\n",
      "Epoch 1400, Loss: 2.7861\n",
      "Epoch 1500, Loss: 2.7717\n",
      "Epoch 1600, Loss: 2.7617\n",
      "Epoch 1700, Loss: 2.7547\n",
      "Epoch 1800, Loss: 2.7498\n",
      "Epoch 1900, Loss: 2.7464\n",
      "Epoch 2000, Loss: 2.7441\n",
      "Epoch 2100, Loss: 2.7424\n",
      "Epoch 2200, Loss: 2.7412\n",
      "Epoch 2300, Loss: 2.7404\n",
      "Epoch 2400, Loss: 2.7399\n",
      "Epoch 2500, Loss: 2.7395\n",
      "Epoch 2600, Loss: 2.7392\n",
      "Epoch 2700, Loss: 2.7390\n",
      "Epoch 2800, Loss: 2.7389\n",
      "Epoch 2900, Loss: 2.7388\n",
      "\n",
      "Final Params:\n",
      "W1: [[1.6121592]] | b1: -1.0314457218900595\n",
      "W2: [[1.43381945]] | b2: 4.3973232885666365\n",
      "\n",
      "Prediction:\n",
      " [[ 4.39732329]\n",
      " [ 5.22996157]\n",
      " [ 7.5415068 ]\n",
      " [ 9.85305203]\n",
      " [12.16459725]\n",
      " [14.47614248]\n",
      " [16.7876877 ]\n",
      " [19.09923293]\n",
      " [21.41077816]\n",
      " [23.72232338]]\n",
      "\n",
      "y True:\n",
      " [[ 3]\n",
      " [ 5]\n",
      " [ 7]\n",
      " [ 9]\n",
      " [11]\n",
      " [13]\n",
      " [15]\n",
      " [17]\n",
      " [19]\n",
      " [21]]\n"
     ]
    }
   ],
   "source": [
    "# Neural Network Class with 1 hidden layer\n",
    "class LinearRegressionNN:\n",
    "  def __init__(self, input_shape, hidden_units, output_shape):\n",
    "    self.W1 = np.random.random(size=(input_shape, hidden_units))\n",
    "    self.b1 = np.random.random()\n",
    "    self.W2 = np.random.random(size=(hidden_units, output_shape))\n",
    "    self.b2 = np.random.random()\n",
    "\n",
    "    self.a1 = ReLU()\n",
    "    self.a2 = ReLU()\n",
    "\n",
    "    self.loss_fn = MSE()\n",
    "\n",
    "  def set_activation(self, a):\n",
    "    self.a1 = a[0]\n",
    "    self.a2 = a[1]\n",
    "\n",
    "  def set_loss_fn(self, L):\n",
    "    self.loss_fn = L\n",
    "  \n",
    "  def forward(self, x):\n",
    "    a = x @ self.W1 + self.b1\n",
    "    A = self.a1.f(a)\n",
    "    z = A @ self.W2 + self.b2\n",
    "    O = self.a2.f(z)\n",
    "    return a, A, z, O\n",
    "\n",
    "  # x.shape = (m, n), input_shape = n, hidden_units = h, output_shape = o\n",
    "  def backward(self, x, y, a, A, z, O, lr=0.01):\n",
    "    dL_dO = self.loss_fn.fp(y, O)       # shape (m, o)\n",
    "    dO_dz = self.a2.fp(z)               # shape (m, o)\n",
    "    dL_dz = dO_dz * dL_dO               # shape (m, o)\n",
    "\n",
    "    dL_db2 = np.sum(dL_dz)\n",
    "\n",
    "    dz_dW2 = A                          # shape (m, h)\n",
    "    dL_dW2 = dz_dW2.T @ dL_dz           # shape (h, m) @ (m, o) = (h, o)\n",
    "\n",
    "    dz_dA = self.W2                     # shape (h, o)\n",
    "    dL_dA = dL_dz @ dz_dA.T             # shape (m, o) @ (o, h) = (m, h)\n",
    "\n",
    "    dA_da = self.a1.fp(a)               # shape (m, h)\n",
    "    dL_da = dL_dA * dA_da               # shape (m, h)\n",
    "\n",
    "    dL_db1 = np.sum(dL_da)\n",
    "\n",
    "    da_dW1 = x                          # shape (m, n)\n",
    "    dL_dW1 = da_dW1.T @ dL_da           # shape (n, m) @ (m, h) = (n, h)\n",
    "\n",
    "    # Update weights and biases\n",
    "    self.b2 -= lr * dL_db2\n",
    "    self.W2 -= lr * dL_dW2\n",
    "    self.b1 -= lr * dL_db1\n",
    "    self.W1 -= lr * dL_dW1\n",
    "\n",
    "  def train(self, x, y, epochs=1000, lr=0.01):\n",
    "    for epoch in range(epochs):\n",
    "      a, A, z, O = self.forward(x)\n",
    "\n",
    "      if epoch % 100 == 0:\n",
    "        loss = self.loss_fn.f(y, O)\n",
    "        print(f\"Epoch {epoch}, Loss: {loss:.4f}\")\n",
    "\n",
    "      self.backward(x, y, a, A, z, O, lr)\n",
    "\n",
    "    print(\"\\nFinal Params:\")\n",
    "    print(f\"W1: {self.W1} | b1: {self.b1}\")\n",
    "    print(f\"W2: {self.W2} | b2: {self.b2}\")\n",
    "    print(\"\\nPrediction:\\n\", self.forward(x)[3])\n",
    "    print(\"\\ny True:\\n\", y)\n",
    "\n",
    "# Goal y = 2x + 3\n",
    "X = np.array([np.arange(0, 10)]).T\n",
    "y = 2 * X + 3\n",
    "\n",
    "np.random.seed(42)\n",
    "model = LinearRegressionNN(1, 1, 1)\n",
    "model.train(X, y, epochs=3000)"
   ]
  },
  {
   "cell_type": "markdown",
   "id": "14048e39",
   "metadata": {},
   "source": [
    "## Generalize Neural Network Class"
   ]
  },
  {
   "cell_type": "code",
   "execution_count": 177,
   "id": "89cff8c9",
   "metadata": {},
   "outputs": [
    {
     "name": "stdout",
     "output_type": "stream",
     "text": [
      "Epoch 0, Loss: 114.2859\n",
      "Epoch 100, Loss: 11.4438\n",
      "Epoch 200, Loss: 7.7742\n",
      "Epoch 300, Loss: 5.7047\n",
      "Epoch 400, Loss: 4.6576\n",
      "Epoch 500, Loss: 4.0356\n",
      "Epoch 600, Loss: 3.6277\n",
      "Epoch 700, Loss: 3.3509\n",
      "Epoch 800, Loss: 3.1612\n",
      "Epoch 900, Loss: 3.0309\n",
      "Epoch 1000, Loss: 2.9412\n",
      "Epoch 1100, Loss: 2.8793\n",
      "Epoch 1200, Loss: 2.8365\n",
      "Epoch 1300, Loss: 2.8067\n",
      "Epoch 1400, Loss: 2.7861\n",
      "Epoch 1500, Loss: 2.7717\n",
      "Epoch 1600, Loss: 2.7617\n",
      "Epoch 1700, Loss: 2.7547\n",
      "Epoch 1800, Loss: 2.7498\n",
      "Epoch 1900, Loss: 2.7464\n",
      "Epoch 2000, Loss: 2.7441\n",
      "Epoch 2100, Loss: 2.7424\n",
      "Epoch 2200, Loss: 2.7412\n",
      "Epoch 2300, Loss: 2.7404\n",
      "Epoch 2400, Loss: 2.7399\n",
      "Epoch 2500, Loss: 2.7395\n",
      "Epoch 2600, Loss: 2.7392\n",
      "Epoch 2700, Loss: 2.7390\n",
      "Epoch 2800, Loss: 2.7389\n",
      "Epoch 2900, Loss: 2.7388\n"
     ]
    }
   ],
   "source": [
    "class NeuralNetwork:\n",
    "  def __init__(self, input_shape: int, hidden_units: list[int], output_shape: int):\n",
    "    self.l = len(hidden_units) + 1  # number of layers\n",
    "    self.W = []                     # weights\n",
    "    self.b = []                     # biases\n",
    "    self.a = []                     # activations\n",
    "    \n",
    "    prev_units = input_shape\n",
    "    for units in hidden_units:\n",
    "      self.W.append(np.random.random(size=(prev_units, units)))\n",
    "      self.b.append(np.random.random(size=(1, units)))\n",
    "      self.a.append(ReLU())\n",
    "      prev_units = units\n",
    "    self.W.append(np.random.random(size=(prev_units, output_shape)))\n",
    "    self.b.append(np.random.random(size=(1, output_shape)))\n",
    "    self.a.append(ReLU())\n",
    "\n",
    "    self.loss_fn = MSE()\n",
    "  \n",
    "  def set_activation(self, a: list):\n",
    "    self.a = a\n",
    "\n",
    "  def set_loss_fn(self, L):\n",
    "    self.loss_fn = L\n",
    "  \n",
    "  def forward(self, X):\n",
    "    x = X.copy()\n",
    "    zs = []  # pre-activation\n",
    "    As = []  # post-activation\n",
    "    for i in range(self.l):\n",
    "      z = x @ self.W[i] + self.b[i]\n",
    "      zs.append(z)\n",
    "      A = self.a[i].f(z)\n",
    "      As.append(A)\n",
    "      x = A\n",
    "    return zs, As\n",
    "  \n",
    "  def backward(self, X, y, zs, As, lr=0.01):\n",
    "    # Partial derivative of loss w.r.t. output\n",
    "    dL_dO = self.loss_fn.fp(y, As[-1])\n",
    "\n",
    "    # Gradient of layer i+1 w.r.t. layer i\n",
    "    dA = dL_dO\n",
    "    for i in range(self.l-1, -1, -1):\n",
    "      # Partial derivative of loss w.r.t. activation\n",
    "      a_deriv = self.a[i].fp(zs[i])\n",
    "      dL_dz = dA * a_deriv\n",
    "\n",
    "      # Update gradient for layer i-1\n",
    "      dA = dL_dz @ self.W[i].T\n",
    "\n",
    "      # Partial derivative of loss w.r.t. bias\n",
    "      dL_db = np.sum(dL_dz, axis=0, keepdims=True)\n",
    "\n",
    "      # Partial derivative of loss w.r.t. weight\n",
    "      dz_dW = As[i-1] if i > 0 else X\n",
    "      dL_dW = dz_dW.T @ dL_dz\n",
    "\n",
    "      # Update weights and biases\n",
    "      self.b[i] -= lr * dL_db\n",
    "      self.W[i] -= lr * dL_dW\n",
    "\n",
    "  def train(self, X, y, epochs=1000, lr=0.01):\n",
    "    for epoch in range(epochs):\n",
    "      zs, As = self.forward(X)\n",
    "\n",
    "      if epoch % 100 == 0:\n",
    "        loss = self.loss_fn.f(y, As[-1])\n",
    "        print(f\"Epoch {epoch}, Loss: {loss:.4f}\")\n",
    "\n",
    "      self.backward(X, y, zs, As, lr)\n",
    "\n",
    "# Goal y = 2x + 3\n",
    "X = np.array([np.arange(0, 10)]).T\n",
    "y = 2 * X + 3\n",
    "\n",
    "np.random.seed(42)\n",
    "model = NeuralNetwork(1, [1], 1)\n",
    "model.train(X, y, epochs=3000)"
   ]
  },
  {
   "cell_type": "markdown",
   "id": "656cd881",
   "metadata": {},
   "source": [
    "## Compare Performance with Pytorch: Linear Regression with Small Range"
   ]
  },
  {
   "cell_type": "code",
   "execution_count": 178,
   "id": "4456061f",
   "metadata": {},
   "outputs": [
    {
     "data": {
      "text/plain": [
       "'cuda'"
      ]
     },
     "execution_count": 178,
     "metadata": {},
     "output_type": "execute_result"
    }
   ],
   "source": [
    "# Setup device-agnostic code\n",
    "device = 'cuda' if torch.cuda.is_available() else 'cpu'\n",
    "device"
   ]
  },
  {
   "cell_type": "code",
   "execution_count": 179,
   "id": "a0d3fe66",
   "metadata": {},
   "outputs": [
    {
     "name": "stdout",
     "output_type": "stream",
     "text": [
      "(100, 1) (100, 1)\n"
     ]
    },
    {
     "data": {
      "image/png": "[encoded data removed]",
      "text/plain": [
       "<Figure size 640x480 with 1 Axes>"
      ]
     },
     "metadata": {},
     "output_type": "display_data"
    }
   ],
   "source": [
    "# Sample data for regression\n",
    "X = np.arange(0, 10, 0.1).reshape(-1, 1)\n",
    "y = 0.11 * X + 0.17\n",
    "print(X.shape, y.shape)\n",
    "\n",
    "# Plot data\n",
    "plt.plot(X, y, label=\"y = 0.11x + 0.17\")\n",
    "plt.legend()\n",
    "plt.show()"
   ]
  },
  {
   "cell_type": "code",
   "execution_count": 180,
   "id": "4ab6a96b",
   "metadata": {},
   "outputs": [
    {
     "data": {
      "text/plain": [
       "(80, 80, 20, 20)"
      ]
     },
     "execution_count": 180,
     "metadata": {},
     "output_type": "execute_result"
    }
   ],
   "source": [
    "# Split to train and test data\n",
    "RANDOM_SEED = 42\n",
    "X_train, X_test, y_train, y_test = train_test_split(X, y, test_size=0.2, random_state=RANDOM_SEED)\n",
    "\n",
    "# Convert data to PyTorch tensors and move to device\n",
    "X_train_tensor = torch.tensor(X_train, dtype=torch.float32).to(device)\n",
    "y_train_tensor = torch.tensor(y_train, dtype=torch.float32).to(device)\n",
    "X_test_tensor = torch.tensor(X_test, dtype=torch.float32).to(device)\n",
    "y_test_tensor = torch.tensor(y_test, dtype=torch.float32).to(device)\n",
    "\n",
    "len(X_train), len(y_train), len(X_test), len(y_test)"
   ]
  },
  {
   "cell_type": "code",
   "execution_count": null,
   "id": "ad8d56f7",
   "metadata": {},
   "outputs": [],
   "source": [
    "# Empty activation for linear regression\n",
    "class EmptyActivation:\n",
    "  def f(self, x):\n",
    "    return x\n",
    "\n",
    "  def fp(self, x):\n",
    "    return np.ones_like(x)"
   ]
  },
  {
   "cell_type": "code",
   "execution_count": 182,
   "id": "cef0dfd7",
   "metadata": {},
   "outputs": [
    {
     "name": "stdout",
     "output_type": "stream",
     "text": [
      "Epoch 0, Loss: 134.7392\n",
      "Epoch 100, Loss: 0.0923\n",
      "Epoch 200, Loss: 0.0760\n",
      "Epoch 300, Loss: 0.0638\n",
      "Epoch 400, Loss: 0.0529\n",
      "Epoch 500, Loss: 0.0420\n",
      "Epoch 600, Loss: 0.0318\n",
      "Epoch 700, Loss: 0.0231\n",
      "Epoch 800, Loss: 0.0163\n",
      "Epoch 900, Loss: 0.0113\n"
     ]
    }
   ],
   "source": [
    "# Our model\n",
    "np.random.seed(RANDOM_SEED)\n",
    "model_own = NeuralNetwork(1, [10], 1)\n",
    "model_own.a[-1] = EmptyActivation()\n",
    "model_own.train(X_train, y_train, epochs=1000, lr=0.01)"
   ]
  },
  {
   "cell_type": "code",
   "execution_count": 183,
   "id": "80bc25ad",
   "metadata": {},
   "outputs": [],
   "source": [
    "# Pytorch model\n",
    "class PytorchRegression(nn.Module):\n",
    "  def __init__(self, input_shape, hidden_units, output_shape):\n",
    "    super().__init__()\n",
    "    self.layers = nn.Sequential(\n",
    "      nn.Linear(input_shape, hidden_units),\n",
    "      nn.ReLU(),\n",
    "      nn.Linear(hidden_units, output_shape),\n",
    "    )\n",
    "\n",
    "  def forward(self, x):\n",
    "    return self.layers(x)\n",
    "\n",
    "torch.manual_seed(RANDOM_SEED)\n",
    "model_torch = PytorchRegression(1, 10, 1).to(device)"
   ]
  },
  {
   "cell_type": "code",
   "execution_count": 184,
   "id": "8fb5eba4",
   "metadata": {},
   "outputs": [
    {
     "name": "stdout",
     "output_type": "stream",
     "text": [
      "Epoch 0, Loss: 1.0719\n",
      "Epoch 100, Loss: 0.0022\n",
      "Epoch 200, Loss: 0.0018\n",
      "Epoch 300, Loss: 0.0015\n",
      "Epoch 400, Loss: 0.0012\n",
      "Epoch 500, Loss: 0.0010\n",
      "Epoch 600, Loss: 0.0009\n",
      "Epoch 700, Loss: 0.0007\n",
      "Epoch 800, Loss: 0.0006\n",
      "Epoch 900, Loss: 0.0005\n"
     ]
    }
   ],
   "source": [
    "# Set up loss function and optimizer\n",
    "loss_fn = nn.MSELoss()\n",
    "optimizer = optim.SGD(model_torch.parameters(), lr=0.01)\n",
    "\n",
    "# Training loop\n",
    "torch.manual_seed(RANDOM_SEED)\n",
    "epochs = 1000\n",
    "for epoch in range(epochs):\n",
    "  model_torch.train()\n",
    "  y_pred = model_torch(X_train_tensor)\n",
    "  loss = loss_fn(y_pred, y_train_tensor)\n",
    "  \n",
    "  optimizer.zero_grad()\n",
    "  loss.backward()\n",
    "  optimizer.step()\n",
    "\n",
    "  if epoch % 100 == 0:\n",
    "    print(f\"Epoch {epoch}, Loss: {loss.item():.4f}\")"
   ]
  },
  {
   "cell_type": "code",
   "execution_count": 185,
   "id": "65ff7c4e",
   "metadata": {},
   "outputs": [
    {
     "data": {
      "image/png": "[encoded data removed]",
      "text/plain": [
       "<Figure size 640x480 with 1 Axes>"
      ]
     },
     "metadata": {},
     "output_type": "display_data"
    }
   ],
   "source": [
    "# Plot prediction\n",
    "zs, As = model_own.forward(X_test)\n",
    "own_pred = As[-1].reshape(-1)\n",
    "\n",
    "model_torch.eval()\n",
    "with torch.inference_mode():\n",
    "  y_pred_tensor = model_torch(X_test_tensor)\n",
    "  torch_pred = y_pred_tensor.cpu().detach().numpy().reshape(-1)\n",
    "\n",
    "plt.scatter(X_test, y_test, label=\"y True\")\n",
    "plt.scatter(X_test, own_pred, label=\"Own Model\")\n",
    "plt.scatter(X_test, torch_pred, label=\"PyTorch Model\")\n",
    "plt.legend()\n",
    "plt.show()"
   ]
  },
  {
   "cell_type": "markdown",
   "id": "ba2046d1",
   "metadata": {},
   "source": [
    "## Compare Performance with Pytorch: Linear Regression with Larger Range"
   ]
  },
  {
   "cell_type": "code",
   "execution_count": 198,
   "id": "8018623a",
   "metadata": {},
   "outputs": [
    {
     "name": "stdout",
     "output_type": "stream",
     "text": [
      "(100, 1) (100, 1)\n"
     ]
    },
    {
     "data": {
      "image/png": "[encoded data removed]",
      "text/plain": [
       "<Figure size 640x480 with 1 Axes>"
      ]
     },
     "metadata": {},
     "output_type": "display_data"
    }
   ],
   "source": [
    "# Sample data for regression\n",
    "X = np.arange(0, 100, 1).reshape(-1, 1)\n",
    "\n",
    "# Normalize X\n",
    "X = (X - X.mean()) / X.std()\n",
    "\n",
    "y = 11 * X + 17\n",
    "print(X.shape, y.shape)\n",
    "\n",
    "# Plot data\n",
    "plt.plot(X, y, label=\"y = 11x + 17\")\n",
    "plt.legend()\n",
    "plt.show()"
   ]
  },
  {
   "cell_type": "code",
   "execution_count": 199,
   "id": "36190bf4",
   "metadata": {},
   "outputs": [
    {
     "data": {
      "text/plain": [
       "(80, 80, 20, 20)"
      ]
     },
     "execution_count": 199,
     "metadata": {},
     "output_type": "execute_result"
    }
   ],
   "source": [
    "# Split to train and test data\n",
    "X_train, X_test, y_train, y_test = train_test_split(X, y, test_size=0.2, random_state=RANDOM_SEED)\n",
    "\n",
    "# Convert data to PyTorch tensors and move to device\n",
    "X_train_tensor = torch.tensor(X_train, dtype=torch.float32).to(device)\n",
    "y_train_tensor = torch.tensor(y_train, dtype=torch.float32).to(device)\n",
    "X_test_tensor = torch.tensor(X_test, dtype=torch.float32).to(device)\n",
    "y_test_tensor = torch.tensor(y_test, dtype=torch.float32).to(device)\n",
    "\n",
    "len(X_train), len(y_train), len(X_test), len(y_test)"
   ]
  },
  {
   "cell_type": "code",
   "execution_count": 200,
   "id": "db394450",
   "metadata": {},
   "outputs": [
    {
     "name": "stdout",
     "output_type": "stream",
     "text": [
      "Epoch 0, Loss: 322.4538\n",
      "Epoch 100, Loss: 0.2822\n",
      "Epoch 200, Loss: 0.2163\n",
      "Epoch 300, Loss: 0.1741\n",
      "Epoch 400, Loss: 0.1427\n",
      "Epoch 500, Loss: 0.1188\n",
      "Epoch 600, Loss: 0.1004\n",
      "Epoch 700, Loss: 0.0854\n",
      "Epoch 800, Loss: 0.0731\n",
      "Epoch 900, Loss: 0.0631\n"
     ]
    }
   ],
   "source": [
    "# Our model\n",
    "np.random.seed(RANDOM_SEED)\n",
    "model_own = NeuralNetwork(1, [10], 1)\n",
    "model_own.a[-1] = EmptyActivation()\n",
    "model_own.train(X_train, y_train, epochs=1000, lr=0.01)"
   ]
  },
  {
   "cell_type": "code",
   "execution_count": 201,
   "id": "7a15b946",
   "metadata": {},
   "outputs": [
    {
     "name": "stdout",
     "output_type": "stream",
     "text": [
      "Epoch 0, Loss: 430.8753\n",
      "Epoch 100, Loss: 0.1911\n",
      "Epoch 200, Loss: 0.0437\n",
      "Epoch 300, Loss: 0.0215\n",
      "Epoch 400, Loss: 0.0151\n",
      "Epoch 500, Loss: 0.0115\n",
      "Epoch 600, Loss: 0.0091\n",
      "Epoch 700, Loss: 0.0075\n",
      "Epoch 800, Loss: 0.0063\n",
      "Epoch 900, Loss: 0.0055\n"
     ]
    }
   ],
   "source": [
    "# Pytorch model\n",
    "torch.manual_seed(RANDOM_SEED)\n",
    "model_torch = PytorchRegression(1, 10, 1).to(device)\n",
    "\n",
    "# Set up loss function and optimizer\n",
    "loss_fn = nn.MSELoss()\n",
    "optimizer = optim.SGD(model_torch.parameters(), lr=0.01)\n",
    "\n",
    "# Training loop\n",
    "epochs = 1000\n",
    "for epoch in range(epochs):\n",
    "  model_torch.train()\n",
    "  y_pred = model_torch(X_train_tensor)\n",
    "  loss = loss_fn(y_pred, y_train_tensor)\n",
    "  \n",
    "  optimizer.zero_grad()\n",
    "  loss.backward()\n",
    "  optimizer.step()\n",
    "\n",
    "  if epoch % 100 == 0:\n",
    "    print(f\"Epoch {epoch}, Loss: {loss.item():.4f}\")"
   ]
  },
  {
   "cell_type": "code",
   "execution_count": 195,
   "id": "6c4bc072",
   "metadata": {},
   "outputs": [
    {
     "data": {
      "image/png": "[encoded data removed]",
      "text/plain": [
       "<Figure size 640x480 with 1 Axes>"
      ]
     },
     "metadata": {},
     "output_type": "display_data"
    }
   ],
   "source": [
    "# Plot prediction\n",
    "zs, As = model_own.forward(X_test)\n",
    "own_pred = As[-1].reshape(-1)\n",
    "\n",
    "model_torch.eval()\n",
    "with torch.inference_mode():\n",
    "  y_pred_tensor = model_torch(X_test_tensor)\n",
    "  torch_pred = y_pred_tensor.cpu().detach().numpy().reshape(-1)\n",
    "\n",
    "plt.scatter(X_test, y_test, label=\"y True\")\n",
    "plt.scatter(X_test, own_pred, label=\"Own Model\")\n",
    "plt.scatter(X_test, torch_pred, label=\"PyTorch Model\")\n",
    "plt.legend()\n",
    "plt.show()"
   ]
  },
  {
   "cell_type": "markdown",
   "id": "406fcc37",
   "metadata": {},
   "source": [
    "## Compare Performance with Pytorch: Classification with Moon dataset"
   ]
  },
  {
   "cell_type": "code",
   "execution_count": 197,
   "id": "913177ca",
   "metadata": {},
   "outputs": [
    {
     "data": {
      "image/png": "[encoded data removed]",
      "text/plain": [
       "<Figure size 640x480 with 1 Axes>"
      ]
     },
     "metadata": {},
     "output_type": "display_data"
    }
   ],
   "source": [
    "X_moon, y_moon = make_moons(n_samples=1000, noise=0.07, random_state=RANDOM_SEED)\n",
    "plt.scatter(X_moon[:, 0], X_moon[:, 1], c=y_moon, cmap=plt.cm.RdYlBu)\n",
    "plt.show()"
   ]
  }
 ],
 "metadata": {
  "kernelspec": {
   "display_name": "DataScienceClass",
   "language": "python",
   "name": "python3"
  },
  "language_info": {
   "codemirror_mode": {
    "name": "ipython",
    "version": 3
   },
   "file_extension": ".py",
   "mimetype": "text/x-python",
   "name": "python",
   "nbconvert_exporter": "python",
   "pygments_lexer": "ipython3",
   "version": "3.12.7"
  }
 },
 "nbformat": 4,
 "nbformat_minor": 5
}
